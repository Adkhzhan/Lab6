{
 "cells": [
  {
   "cell_type": "code",
   "execution_count": 6,
   "id": "28b8fd70-37fd-47c9-8e35-641fe261cf64",
   "metadata": {},
   "outputs": [
    {
     "name": "stdin",
     "output_type": "stream",
     "text": [
      "Enter your name:  Adam\n",
      "Enter your age:  20\n"
     ]
    },
    {
     "name": "stdout",
     "output_type": "stream",
     "text": [
      "Your name is: Adam and you were born in: 2005\n"
     ]
    }
   ],
   "source": [
    "name = input(\"Enter your name: \")\n",
    "age = int(input(\"Enter your age: \"))\n",
    "current_year = 2025\n",
    "year_of_birth = current_year - age\n",
    "print(\"Your name is:\", name, \"and you were born in:\", year_of_birth)"
   ]
  },
  {
   "cell_type": "code",
   "execution_count": null,
   "id": "2177fed4-d151-42e6-a5d7-a91114cb4392",
   "metadata": {},
   "outputs": [],
   "source": []
  },
  {
   "cell_type": "code",
   "execution_count": null,
   "id": "09558846-e098-4715-a0e2-98a78dd463a4",
   "metadata": {},
   "outputs": [],
   "source": []
  }
 ],
 "metadata": {
  "kernelspec": {
   "display_name": "Python 3 (ipykernel)",
   "language": "python",
   "name": "python3"
  },
  "language_info": {
   "codemirror_mode": {
    "name": "ipython",
    "version": 3
   },
   "file_extension": ".py",
   "mimetype": "text/x-python",
   "name": "python",
   "nbconvert_exporter": "python",
   "pygments_lexer": "ipython3",
   "version": "3.11.13"
  }
 },
 "nbformat": 4,
 "nbformat_minor": 5
}
