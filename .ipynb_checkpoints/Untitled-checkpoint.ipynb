{
 "cells": [
  {
   "cell_type": "code",
   "execution_count": 8,
   "id": "28b8fd70-37fd-47c9-8e35-641fe261cf64",
   "metadata": {},
   "outputs": [
    {
     "name": "stdin",
     "output_type": "stream",
     "text": [
      "Enter your name:  Adam\n"
     ]
    }
   ],
   "source": [
    "name = input(\"Enter your name: \")"
   ]
  },
  {
   "cell_type": "code",
   "execution_count": null,
   "id": "61692643-50c4-42f6-a96b-e2d87c18cd10",
   "metadata": {},
   "outputs": [],
   "source": []
  }
 ],
 "metadata": {
  "kernelspec": {
   "display_name": "Python 3 (ipykernel)",
   "language": "python",
   "name": "python3"
  },
  "language_info": {
   "codemirror_mode": {
    "name": "ipython",
    "version": 3
   },
   "file_extension": ".py",
   "mimetype": "text/x-python",
   "name": "python",
   "nbconvert_exporter": "python",
   "pygments_lexer": "ipython3",
   "version": "3.11.13"
  }
 },
 "nbformat": 4,
 "nbformat_minor": 5
}
